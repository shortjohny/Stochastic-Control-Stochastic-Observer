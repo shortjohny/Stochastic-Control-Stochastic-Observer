{
  "nbformat": 4,
  "nbformat_minor": 0,
  "metadata": {
    "colab": {
      "name": "Stochastic_Observer.ipynb",
      "provenance": [],
      "collapsed_sections": []
    },
    "kernelspec": {
      "name": "python3",
      "display_name": "Python 3"
    },
    "language_info": {
      "name": "python"
    }
  },
  "cells": [
    {
      "cell_type": "code",
      "execution_count": 1,
      "metadata": {
        "id": "WBadgfw9vUXs"
      },
      "outputs": [],
      "source": [
        "import matplotlib.pyplot as plt\n",
        "import numpy as np"
      ]
    },
    {
      "cell_type": "code",
      "source": [
        "#Functions\n",
        "def Calculate_Omega(A,S,Q):\n",
        "  return np.dot(A,np.dot(S,A.T))+Q\n",
        "\n",
        "def PartitionMatrix(M,m1):\n",
        "  M11=M[:m1,:m1]\n",
        "  M12=M[:m1,m1:]\n",
        "  M21=M[m1:,:m1]\n",
        "  M22=M[m1:,m1:]\n",
        "  return M11,M12,M21,M22\n",
        "\n",
        "def Calculate_K(Omega,R,m1,Hi):\n",
        "\n",
        "  O11,O12,O21,O22=PartitionMatrix(Omega,m1)\n",
        "  R11,R12,R21,R22=PartitionMatrix(R,m1)\n",
        "  #***\n",
        "  \n",
        "  M111=O21\n",
        "  M112=np.dot(O22,Hi.T)\n",
        "  M1=np.concatenate([M111,M112],axis=1)\n",
        "\n",
        "\n",
        "  M211=O11+R11\n",
        "  M212=R12+np.dot(O12,Hi.T)\n",
        "  M221=np.dot(Hi,O21)+R21\n",
        "  M222=np.dot(Hi,np.dot(O22,Hi.T)) + R22\n",
        "  M2=np.concatenate([np.concatenate([M211,M212],axis=1),np.concatenate([M221,M222],axis=1)],axis=0)\n",
        "  K=np.dot(M1,np.linalg.inv(M2))\n",
        "  return K\n",
        "\n",
        "def Calculate_Sigma(T,Omega):\n",
        "  return np.dot(T,np.dot(Omega,T.T))\n",
        "def Update_Omega(A,P,Error_V,V,R,Q):\n",
        "  return A@P@Error_V@P.T@A.T+A@V@R@V.T@A.T+Q\n",
        "\n",
        "def initializeObserver(y0,y1,y2,sigma_m_x,sigma_a,T):\n",
        "  x0_bar=np.array([[y0],[(3/2*y0-2*y1+1/2*y2)/T],[(y0-2*y1+y2)/(T**2)]])\n",
        "  S0=np.array([[sigma_m_x**2,3*sigma_m_x**2/(2*T),sigma_m_x**2/(T**2)],[3*sigma_m_x**2/(2*T),13*sigma_m_x**2/(T**2)+(T**2) *(sigma_a**2)/16,6*sigma_m_x**2/(T**3)+(sigma_a**2)*T/8],[sigma_m_x**2/(T**2),6*sigma_m_x**2/(T**3)+(sigma_a**2)*T/8,6*sigma_m_x**2/(T**4)+5*(sigma_a**2)*T/4]])\n",
        "  return x0_bar,S0\n",
        "\n",
        "def RunObserver(x0_bar,S0,A,Q,R,m1,Steps):\n",
        "  n=Q.shape[0]\n",
        "  m=R.shape[0]\n",
        "\n",
        "  H_i=np.concatenate([np.eye((m-m1)),np.zeros(((m-m1),n-m))],axis=1)\n",
        "\n",
        "  #Initial Omega\n",
        "\n",
        "  current_x=np.copy(x0_bar)\n",
        "  current_S=np.copy(S0)\n",
        "\n",
        "  Current_Omega=Calculate_Omega(A,current_S,Q)\n",
        "  Estimates,Sigmas=[],[]\n",
        "  for i in range(Steps):\n",
        "\n",
        "\n",
        "    #K Gains\n",
        "    K=Calculate_K(Current_Omega,R,m1,H_i)\n",
        "    K1=K[:,:m1]\n",
        "    K2=K[:,m1:]\n",
        "\n",
        "    #T P V\n",
        "    T=np.concatenate([(-K1),np.eye((n-m1))-np.dot(K2,H_i)],axis=1)\n",
        "    P=np.concatenate([np.zeros((m1,n-m1)),np.eye(n-m1)],axis=0)\n",
        "    V=np.concatenate([np.concatenate([np.eye(m1),np.zeros((m1,m-m1))],axis=1),K],axis=0)\n",
        "\n",
        "    #Observer\n",
        "    z=np.dot(T,np.dot(A,current_x))\n",
        "    #Estimate\n",
        "    x_estimate=np.dot(P,z)+np.dot(V,measurement_states[i,:]).reshape(-1,1)\n",
        "\n",
        "    #Update Omega and x\n",
        "    Sigma=Calculate_Sigma(T,Current_Omega)\n",
        "    Omega_new=Update_Omega(A,P,Sigma,V,R,Q)\n",
        "\n",
        "    current_x=np.copy(x_estimate)\n",
        "    Current_Omega=np.copy(Omega_new)\n",
        "\n",
        "    Estimates.append(current_x)\n",
        "    Sigmas.append(Sigma)\n",
        "\n",
        "  Estimates=np.array(Estimates)\n",
        "  Sigmas=np.array(Sigmas)\n",
        "  return Estimates,Sigmas"
      ],
      "metadata": {
        "id": "JOsNKHLUXw4s"
      },
      "execution_count": 2,
      "outputs": []
    },
    {
      "cell_type": "code",
      "source": [
        "#Create ground truth data\n",
        "num=200\n",
        "num_steps=num+2\n",
        "\n",
        "ground_truth_xs=[]\n",
        "vo=5\n",
        "a=2\n",
        "for t in range(num_steps):\n",
        "  if t>0:\n",
        "    ground_truth_xs.append(vo*t+0.5*a*t**2)\n",
        "  else:\n",
        "    ground_truth_xs.append(vo*t)\n",
        "\n",
        "ground_truth_us=np.diff(ground_truth_xs)\n",
        "ground_truth_as=np.diff(ground_truth_us)\n",
        "\n",
        "ground_truth_data=np.array([ground_truth_xs[:num],ground_truth_us[:num],ground_truth_as[:num]])"
      ],
      "metadata": {
        "id": "Bor_THH0va0R"
      },
      "execution_count": 3,
      "outputs": []
    },
    {
      "cell_type": "code",
      "source": [
        "plt.title('Position Graph')\n",
        "plt.plot(ground_truth_xs)\n",
        "plt.xlabel('Time (s)')\n",
        "plt.ylabel('Position (m)')\n",
        "plt.show()\n",
        "\n",
        "plt.title('Velocity Graph')\n",
        "plt.plot(ground_truth_us)\n",
        "plt.xlabel('Time (s)')\n",
        "plt.ylabel('Velocity (m/s)')\n",
        "plt.show()\n",
        "plt.title('Acceleration Graph')\n",
        "plt.plot(ground_truth_as)\n",
        "plt.xlabel('Time (s)')\n",
        "plt.ylabel('Acceleration (m/s^2)')\n",
        "plt.show()"
      ],
      "metadata": {
        "id": "TRctsn-soimF"
      },
      "execution_count": null,
      "outputs": []
    },
    {
      "cell_type": "code",
      "source": [
        "#Defining the system, creating noisy measurements\n",
        "T=1\n",
        "A=np.array([[1,T,T**2/2],[0,1,T],[0,0,1]])\n",
        "#G=np.array([[0],[0],[1]])\n",
        "H=np.array([[1,0,0],[0,1,0]])"
      ],
      "metadata": {
        "id": "-CVHW3qlEwiS"
      },
      "execution_count": 5,
      "outputs": []
    },
    {
      "cell_type": "code",
      "source": [
        "#Ερώτημα 1 "
      ],
      "metadata": {
        "id": "tKkPMjWplquh"
      },
      "execution_count": null,
      "outputs": []
    },
    {
      "cell_type": "code",
      "source": [
        "#Creating R,Q\n",
        "sigma_x=10\n",
        "sigma_v=10\n",
        "sigma_a=10\n",
        "\n",
        "sigma_m_x=10\n",
        "sigma_m_v=10\n",
        "\n",
        "R=np.array([[sigma_m_x**2,0],[0, sigma_m_v**2]])\n",
        "\n",
        "Q=np.array([[sigma_x**2,0,0],[0,sigma_v**2,0],[0,0,sigma_a**2]])\n",
        "\n",
        "#Simulate system predictions\n",
        "Preds=[ground_truth_data[:,0]]\n",
        "for i in range(num):\n",
        "  motion_noise=np.random.multivariate_normal(mean=np.array([0,0,0]), cov=Q)\n",
        "  new_state=np.dot(A,Preds[-1]) +motion_noise\n",
        "  Preds.append(new_state)\n",
        "\n",
        "#Simulate measurements\n",
        "measurement_states=[ground_truth_data[:2,0]]\n",
        "\n",
        "for i in range(num-1):\n",
        "  measurement_noise=np.random.multivariate_normal(mean=np.array([0,0]), cov=R)\n",
        "  new_measurement= np.dot(H,ground_truth_data[:,i+1]) +measurement_noise\n",
        "  measurement_states.append(new_measurement)\n",
        "\n",
        "Preds=np.array(Preds)\n",
        "measurement_states=np.array(measurement_states)"
      ],
      "metadata": {
        "id": "ohupMF3riWys"
      },
      "execution_count": null,
      "outputs": []
    },
    {
      "cell_type": "code",
      "source": [
        "i=0\n",
        "plt.title('Position Graph')\n",
        "plt.xlabel('Time (s)')\n",
        "plt.ylabel('Position (m)')\n",
        "plt.plot(ground_truth_data[i,:])\n",
        "plt.plot(Preds[:,i])\n",
        "plt.plot(measurement_states[:,i])\n",
        "plt.legend(['ground truth','motion model', 'measurements'])\n",
        "plt.show()\n",
        "i=1\n",
        "\n",
        "plt.title('Velocity Graph')\n",
        "plt.xlabel('Time (s)')\n",
        "plt.ylabel('Velocity (m/s)')\n",
        "plt.xlabel('Time (s)')\n",
        "plt.ylabel('Position (m)')\n",
        "plt.plot(ground_truth_data[i,:])\n",
        "plt.plot(Preds[:,i])\n",
        "plt.plot(measurement_states[:,i])\n",
        "plt.legend(['ground truth','motion model', 'measurements'])\n",
        "plt.show()\n",
        "\n",
        "i=2\n",
        "plt.title('Acceleration Graph')\n",
        "plt.xlabel('Time (s)')\n",
        "plt.ylabel('Acceleration (m/s^2)')\n",
        "\n",
        "plt.plot(ground_truth_data[i,:])\n",
        "plt.plot(Preds[:,i])\n",
        "plt.legend(['ground truth','motion model'])\n",
        "plt.show()"
      ],
      "metadata": {
        "id": "5FxbIorfYOdA"
      },
      "execution_count": null,
      "outputs": []
    },
    {
      "cell_type": "code",
      "source": [
        "#Initialization1\n",
        "y0=measurement_states[0,0]\n",
        "y1=measurement_states[1,0]\n",
        "y2=measurement_states[2,0]\n",
        "\n",
        "x0_bar,S0=initializeObserver(y0,y1,y2,sigma_m_x,sigma_a,T)\n",
        "n=3\n",
        "m=2\n",
        "m1=1\n",
        "Estimates,Sigmas=RunObserver(x0_bar,S0,A,Q,R,m1,num)"
      ],
      "metadata": {
        "id": "pk1EPCv6UGM8"
      },
      "execution_count": null,
      "outputs": []
    },
    {
      "cell_type": "code",
      "source": [
        "i=0\n",
        "plt.title('Position Graph σ(system)='+str(sigma_x))\n",
        "plt.xlabel('Time (s)')\n",
        "plt.ylabel('Position (m)')\n",
        "plt.plot(ground_truth_data[i,:])\n",
        "#plt.plot(Preds[:,i])\n",
        "plt.plot(measurement_states[:,i])\n",
        "plt.plot(Estimates[:,i])\n",
        "#plt.legend(['ground truth','motion model', 'measurements','estimates'])\n",
        "plt.legend(['ground truth', 'measurements','estimates'])\n",
        "plt.show()\n",
        "i=1\n",
        "\n",
        "plt.title('Velocity Graph σ(system)='+str(sigma_x))\n",
        "plt.xlabel('Time (s)')\n",
        "plt.ylabel('Velocity (m/s)')\n",
        "plt.xlabel('Time (s)')\n",
        "plt.ylabel('Position (m)')\n",
        "plt.plot(ground_truth_data[i,:])\n",
        "#plt.plot(Preds[:,i])\n",
        "plt.plot(measurement_states[:,i])\n",
        "plt.plot(Estimates[:,i])\n",
        "#plt.legend(['ground truth','motion model', 'measurements','estimates'])\n",
        "plt.legend(['ground truth', 'measurements','estimates'])\n",
        "plt.show()\n",
        "\n",
        "i=2\n",
        "plt.title('Acceleration Graph σ(system)='+str(sigma_x))\n",
        "plt.xlabel('Time (s)')\n",
        "plt.ylabel('Acceleration (m/s^2)')\n",
        "\n",
        "plt.plot(ground_truth_data[i,:])\n",
        "plt.plot(Preds[:,i])\n",
        "plt.plot(Estimates[:,i])\n",
        "plt.legend(['ground truth','motion model','estimates'])\n",
        "plt.show()"
      ],
      "metadata": {
        "id": "_5cpLd8QTTQY"
      },
      "execution_count": null,
      "outputs": []
    },
    {
      "cell_type": "code",
      "source": [
        "#Noise"
      ],
      "metadata": {
        "id": "DH_f6W8gUMl-"
      },
      "execution_count": null,
      "outputs": []
    },
    {
      "cell_type": "code",
      "source": [
        "def violet_noise(samples):\n",
        "        white = np.fft.rfft(np.random.randn(samples))\n",
        "        S = np.fft.rfftfreq(samples)\n",
        "        S = S / np.sqrt(np.mean(S**2))\n",
        "        X_shaped = white * S\n",
        "        return np.fft.irfft(X_shaped)"
      ],
      "metadata": {
        "id": "xCA9C4H87TRt"
      },
      "execution_count": null,
      "outputs": []
    },
    {
      "cell_type": "code",
      "source": [
        "#Ερώτημα 2"
      ],
      "metadata": {
        "id": "nszJJqyG_Kfw"
      },
      "execution_count": null,
      "outputs": []
    },
    {
      "cell_type": "code",
      "source": [
        "Violet=[]\n",
        "\n",
        "sigma_x=10\n",
        "sigma_v=10\n",
        "sigma_a=10\n",
        "std=[sigma_x,sigma_v,sigma_a]\n",
        "\n",
        "n=3\n",
        "for i in range(n):\n",
        "  Violet.append(std[i]*violet_noise(100000000))\n",
        "Violet=np.array(Violet)\n",
        "Q=np.array([[np.cov(Violet[0,:]),0,0],[0,np.cov(Violet[1,:]),0],[0,0,np.cov(Violet[2,:])]])\n",
        "\n",
        "sigma_x=np.std(Violet[0,:])\n",
        "sigma_v=np.std(Violet[1,:])\n",
        "sigma_a=np.std(Violet[2,:])"
      ],
      "metadata": {
        "id": "fJXjnRfWoUCc"
      },
      "execution_count": null,
      "outputs": []
    },
    {
      "cell_type": "code",
      "source": [
        "np.cov(Violet)"
      ],
      "metadata": {
        "id": "odRNPEHY5BLT"
      },
      "execution_count": null,
      "outputs": []
    },
    {
      "cell_type": "code",
      "source": [
        "plt.loglog(np.abs(np.fft.rfft(Violet[0,:])))\n",
        "plt.title('Violet Noise Spectrum')\n",
        "plt.show()"
      ],
      "metadata": {
        "id": "9R4F2yrRI4jj"
      },
      "execution_count": null,
      "outputs": []
    },
    {
      "cell_type": "code",
      "source": [
        "sigma_m_x=10\n",
        "sigma_m_v=10\n",
        "\n",
        "R=np.array([[sigma_m_x**2,0],[0, sigma_m_v**2]])\n",
        "\n",
        "#Simulate system predictions\n",
        "Preds=[ground_truth_data[:,0]]\n",
        "for _ in range(num):\n",
        "  motion_noise=np.array([np.random.choice(Violet[0,:],1),np.random.choice(Violet[1,:],1),np.random.choice(Violet[2,:],1)]).reshape(-1,)\n",
        "  new_state=np.dot(A,Preds[-1]) +motion_noise\n",
        "  Preds.append(new_state)\n",
        "\n",
        "#Simulate measurements\n",
        "measurement_states=[ground_truth_data[:2,0]]\n",
        "\n",
        "for i in range(num-1):\n",
        "  measurement_noise=np.random.multivariate_normal(mean=np.array([0,0]), cov=R)\n",
        "  new_measurement= np.dot(H,ground_truth_data[:,i+1]) +measurement_noise\n",
        "  measurement_states.append(new_measurement)\n",
        "\n",
        "Preds=np.array(Preds)\n",
        "measurement_states=np.array(measurement_states)"
      ],
      "metadata": {
        "id": "j83ziRXbeCOm"
      },
      "execution_count": null,
      "outputs": []
    },
    {
      "cell_type": "code",
      "source": [
        "i=0\n",
        "plt.title('Position Graph')\n",
        "plt.xlabel('Time (s)')\n",
        "plt.ylabel('Position (m)')\n",
        "plt.plot(ground_truth_data[i,:])\n",
        "plt.plot(Preds[:,i])\n",
        "plt.plot(measurement_states[:,i])\n",
        "plt.legend(['ground truth','motion model', 'measurements'])\n",
        "plt.show()\n",
        "i=1\n",
        "\n",
        "plt.title('Velocity Graph')\n",
        "plt.xlabel('Time (s)')\n",
        "plt.ylabel('Velocity (m/s)')\n",
        "plt.xlabel('Time (s)')\n",
        "plt.ylabel('Position (m)')\n",
        "plt.plot(ground_truth_data[i,:])\n",
        "plt.plot(Preds[:,i])\n",
        "plt.plot(measurement_states[:,i])\n",
        "plt.legend(['ground truth','motion model', 'measurements'])\n",
        "plt.show()\n",
        "\n",
        "i=2\n",
        "plt.title('Acceleration Graph')\n",
        "plt.xlabel('Time (s)')\n",
        "plt.ylabel('Acceleration (m/s^2)')\n",
        "\n",
        "plt.plot(ground_truth_data[i,:])\n",
        "plt.plot(Preds[:,i])\n",
        "plt.legend(['ground truth','motion model'])\n",
        "plt.show()"
      ],
      "metadata": {
        "id": "ZFh2iSayKrpg"
      },
      "execution_count": null,
      "outputs": []
    },
    {
      "cell_type": "code",
      "source": [
        "#Initialization\n",
        "y0=measurement_states[0,0]\n",
        "y1=measurement_states[1,0]\n",
        "y2=measurement_states[2,0]\n",
        "x0_bar,S0=initializeObserver(y0,y1,y2,sigma_m_x,sigma_a,T)\n",
        "\n",
        "n=3\n",
        "m=2\n",
        "m1=1\n",
        "Estimates,Sigmas=RunObserver(x0_bar,S0,A,Q,R,m1,num)"
      ],
      "metadata": {
        "id": "WCO_Z6rwjfQE"
      },
      "execution_count": null,
      "outputs": []
    },
    {
      "cell_type": "code",
      "source": [
        "i=0\n",
        "plt.title('Position Graph σ(system)='+str(np.ceil(sigma_x)))\n",
        "plt.xlabel('Time (s)')\n",
        "plt.ylabel('Position (m)')\n",
        "plt.plot(ground_truth_data[i,:])\n",
        "#plt.plot(Preds[:,i])\n",
        "plt.plot(measurement_states[:,i])\n",
        "plt.plot(Estimates[:,i])\n",
        "#plt.legend(['ground truth','motion model', 'measurements','estimates'])\n",
        "plt.legend(['ground truth', 'measurements','estimates'])\n",
        "plt.show()\n",
        "i=1\n",
        "\n",
        "plt.title('Velocity Graph σ(system)='+str(np.ceil(sigma_x)))\n",
        "plt.xlabel('Time (s)')\n",
        "plt.ylabel('Velocity (m/s)')\n",
        "plt.xlabel('Time (s)')\n",
        "plt.ylabel('Position (m)')\n",
        "plt.plot(ground_truth_data[i,:])\n",
        "#plt.plot(Preds[:,i])\n",
        "plt.plot(measurement_states[:,i])\n",
        "plt.plot(Estimates[:,i])\n",
        "#plt.legend(['ground truth','motion model', 'measurements','estimates'])\n",
        "plt.legend(['ground truth', 'measurements','estimates'])\n",
        "plt.show()\n",
        "\n",
        "i=2\n",
        "plt.title('Acceleration Graph σ(system)='+str(np.ceil(sigma_x)))\n",
        "plt.xlabel('Time (s)')\n",
        "plt.ylabel('Acceleration (m/s^2)')\n",
        "\n",
        "plt.plot(ground_truth_data[i,:])\n",
        "plt.plot(Preds[:,i])\n",
        "plt.plot(Estimates[:,i])\n",
        "plt.legend(['ground truth','motion model','estimates'])\n",
        "plt.show()"
      ],
      "metadata": {
        "id": "x0ppv1wJNhnx"
      },
      "execution_count": null,
      "outputs": []
    },
    {
      "cell_type": "code",
      "source": [
        "#Ερώτημα 3\n",
        "Violet=[]\n",
        "\n",
        "sigma_m_x=10\n",
        "sigma_m_v=10\n",
        "\n",
        "std=[sigma_m_x,sigma_m_v]\n",
        "\n",
        "\n",
        "n=3\n",
        "m=2\n",
        "for i in range(m):\n",
        "  Violet.append(std[i]*violet_noise(10000000))\n",
        "Violet=np.array(Violet)\n",
        "R=np.array([[np.cov(Violet[0,:]),0],[0,np.cov(Violet[1,:])]])\n",
        "\n",
        "sigma_m_x=np.std(Violet[0,:])\n",
        "sigma_m_v=np.std(Violet[1,:])"
      ],
      "metadata": {
        "id": "QHDPEv1tww6R"
      },
      "execution_count": null,
      "outputs": []
    },
    {
      "cell_type": "code",
      "source": [
        "plt.loglog(np.abs(np.fft.rfft(Violet[0,:])))\n",
        "plt.title('Violet Noise Spectrum')\n",
        "plt.show()"
      ],
      "metadata": {
        "id": "UwlIXCBSyAZ0"
      },
      "execution_count": null,
      "outputs": []
    },
    {
      "cell_type": "code",
      "source": [
        "sigma_x=10\n",
        "sigma_v=10\n",
        "sigma_a=10\n",
        "\n",
        "Q=np.array([[sigma_x**2,0,0],[0,sigma_v**2,0],[0,0,sigma_a**2]])\n",
        "\n",
        "#Simulate system predictions\n",
        "Preds=[ground_truth_data[:,0]]\n",
        "for _ in range(num):\n",
        "  motion_noise=np.random.multivariate_normal(mean=np.array([0,0,0]), cov=Q)\n",
        "  new_state=np.dot(A,Preds[-1]) +motion_noise\n",
        "  Preds.append(new_state)\n",
        "\n",
        "#Simulate measurements\n",
        "measurement_states=[ground_truth_data[:2,0]]\n",
        "\n",
        "for i in range(num-1):\n",
        "  measurement_noise=np.array([np.random.choice(Violet[0,:],1),np.random.choice(Violet[1,:],1)]).reshape(-1,)\n",
        "  new_measurement= np.dot(H,ground_truth_data[:,i+1]) +measurement_noise\n",
        "  measurement_states.append(new_measurement)\n",
        "\n",
        "\n",
        "Preds=np.array(Preds)\n",
        "measurement_states=np.array(measurement_states)"
      ],
      "metadata": {
        "id": "6B2fdx3Qrojl"
      },
      "execution_count": null,
      "outputs": []
    },
    {
      "cell_type": "code",
      "source": [
        "i=0\n",
        "plt.title('Position Graph')\n",
        "plt.xlabel('Time (s)')\n",
        "plt.ylabel('Position (m)')\n",
        "plt.plot(ground_truth_data[i,:])\n",
        "plt.plot(Preds[:,i])\n",
        "plt.plot(measurement_states[:,i])\n",
        "plt.legend(['ground truth','motion model', 'measurements'])\n",
        "plt.show()\n",
        "i=1\n",
        "\n",
        "plt.title('Velocity Graph')\n",
        "plt.xlabel('Time (s)')\n",
        "plt.ylabel('Velocity (m/s)')\n",
        "plt.xlabel('Time (s)')\n",
        "plt.ylabel('Position (m)')\n",
        "plt.plot(ground_truth_data[i,:])\n",
        "plt.plot(Preds[:,i])\n",
        "plt.plot(measurement_states[:,i])\n",
        "plt.legend(['ground truth','motion model', 'measurements'])\n",
        "plt.show()\n",
        "\n",
        "i=2\n",
        "plt.title('Acceleration Graph')\n",
        "plt.xlabel('Time (s)')\n",
        "plt.ylabel('Acceleration (m/s^2)')\n",
        "\n",
        "plt.plot(ground_truth_data[i,:])\n",
        "plt.plot(Preds[:,i])\n",
        "plt.legend(['ground truth','motion model'])\n",
        "plt.show()"
      ],
      "metadata": {
        "id": "Co66rCqlu3iM"
      },
      "execution_count": null,
      "outputs": []
    },
    {
      "cell_type": "code",
      "source": [
        "#Initialization\n",
        "y0=measurement_states[0,0]\n",
        "y1=measurement_states[1,0]\n",
        "y2=measurement_states[2,0]\n",
        "x0_bar,S0=initializeObserver(y0,y1,y2,sigma_m_x,sigma_a,T)"
      ],
      "metadata": {
        "id": "Qj8Epfmcsbzh"
      },
      "execution_count": null,
      "outputs": []
    },
    {
      "cell_type": "code",
      "source": [
        "n=3\n",
        "m=2\n",
        "m1=0\n",
        "Estimates,Sigmas=RunObserver(x0_bar,S0,A,Q,R,m1,num)"
      ],
      "metadata": {
        "id": "sohsFmeHsVH_"
      },
      "execution_count": 161,
      "outputs": []
    },
    {
      "cell_type": "code",
      "source": [
        "i=0\n",
        "plt.title('Position Graph σ(system)='+str(np.ceil(sigma_x)))\n",
        "plt.xlabel('Time (s)')\n",
        "plt.ylabel('Position (m)')\n",
        "plt.plot(ground_truth_data[i,:])\n",
        "#plt.plot(Preds[:,i])\n",
        "plt.plot(measurement_states[:,i])\n",
        "plt.plot(Estimates[:,i])\n",
        "#plt.legend(['ground truth','motion model', 'measurements','estimates'])\n",
        "plt.legend(['ground truth', 'measurements','estimates'])\n",
        "plt.show()\n",
        "i=1\n",
        "\n",
        "plt.title('Velocity Graph σ(system)='+str(np.ceil(sigma_x)))\n",
        "plt.xlabel('Time (s)')\n",
        "plt.ylabel('Velocity (m/s)')\n",
        "plt.xlabel('Time (s)')\n",
        "plt.ylabel('Position (m)')\n",
        "plt.plot(ground_truth_data[i,:])\n",
        "#plt.plot(Preds[:,i])\n",
        "plt.plot(measurement_states[:,i])\n",
        "plt.plot(Estimates[:,i])\n",
        "#plt.legend(['ground truth','motion model', 'measurements','estimates'])\n",
        "plt.legend(['ground truth', 'measurements','estimates'])\n",
        "plt.show()\n",
        "\n",
        "i=2\n",
        "plt.title('Acceleration Graph σ(system)='+str(np.ceil(sigma_x)))\n",
        "plt.xlabel('Time (s)')\n",
        "plt.ylabel('Acceleration (m/s^2)')\n",
        "\n",
        "plt.plot(ground_truth_data[i,:])\n",
        "plt.plot(Preds[:,i])\n",
        "plt.plot(Estimates[:,i])\n",
        "plt.legend(['ground truth','motion model','estimates'])\n",
        "plt.show()"
      ],
      "metadata": {
        "id": "gubWvbZDuywD"
      },
      "execution_count": null,
      "outputs": []
    },
    {
      "cell_type": "code",
      "source": [
        "#Ερώτημα 4\n"
      ],
      "metadata": {
        "id": "2FAqQMbQBBuO"
      },
      "execution_count": null,
      "outputs": []
    },
    {
      "cell_type": "code",
      "source": [
        "#Sigmas\n",
        "sigma_x,sigma_v,sigma_a,sigma_xv,sigma_xa,sigma_av=0.05,0.05,0.05,0.05,0.05,0.05\n",
        "#Measurements\n",
        "sigma_m_x,sigma_m_v,sigma_m_vx=1,1,1\n",
        "R=np.array([[sigma_m_x**2,sigma_m_vx**2],[sigma_m_vx**2, sigma_m_v**2]])\n",
        "Q=np.array([[sigma_x**2,sigma_xv**2,sigma_xa**2],[sigma_xv**2,sigma_v**2,sigma_av**2],[sigma_xa**2,sigma_av**2,sigma_a**2]])\n",
        "#Simulate system predictions\n",
        "Preds=[ground_truth_data[:,0]]\n",
        "for _ in range(num):\n",
        "  motion_noise=np.random.multivariate_normal(mean=np.array([0,0,0]), cov=Q)\n",
        "  new_state=np.dot(A,Preds[-1]) +motion_noise\n",
        "  Preds.append(new_state)\n",
        "#Simulate measurements\n",
        "measurement_states=[ground_truth_data[:2,0]]\n",
        "for i in range(num-1):\n",
        "  measurement_noise=np.random.multivariate_normal(mean=np.array([0,0]), cov=R)\n",
        "  new_measurement= np.dot(H,ground_truth_data[:,i+1]) +measurement_noise\n",
        "  measurement_states.append(new_measurement)\n",
        "Preds=np.array(Preds)\n",
        "measurement_states=np.array(measurement_states)"
      ],
      "metadata": {
        "id": "7MktHeYiA4qL"
      },
      "execution_count": null,
      "outputs": []
    },
    {
      "cell_type": "code",
      "source": [
        "#Sigmas\n",
        "n=3\n",
        "m=2\n",
        "sigma_x=1\n",
        "sigma_v=1\n",
        "sigma_a=1\n",
        "\n",
        "sigma_m_x_x=10\n",
        "sigma_m_x_v=10\n",
        "sigma_m_v_x=10\n",
        "sigma_m_v_v=10\n",
        "sigma_m_a_x=10\n",
        "sigma_m_a_v=10\n",
        "\n",
        "\n",
        "sigma_m_x=10\n",
        "sigma_m_v=10\n",
        "\n",
        "R=np.array([[sigma_m_x**2,0],[0, sigma_m_v**2]])\n",
        "Q=np.array([[sigma_x**2,0,0],[0,sigma_v**2,0],[0,0,sigma_a**2]])\n",
        "RQ=np.array([[sigma_x**2,0,0,sigma_m_x_x**2,sigma_m_x_v**2],[0,sigma_v**2,0,sigma_m_v_x**2,sigma_m_v_v**2],[0,0,sigma_a**2,sigma_m_a_x**2,sigma_m_a_v**2],[sigma_m_x_x**2,sigma_m_v_x**2,sigma_m_a_x**2,sigma_m_x**2,0],[sigma_m_x_v**2,sigma_m_v_v**2,sigma_m_a_v**2,0,sigma_m_v**2]])\n",
        "\n",
        "\n",
        "#Simulate system predictions and measurements\n",
        "Preds,measurement_states=[ground_truth_data[:,0]],[ground_truth_data[:2,0]]\n",
        "for i in range(num):\n",
        "  noise=np.random.multivariate_normal(mean=np.array([0,0,0,0,0]), cov=RQ)\n",
        "\n",
        "  motion_noise=noise[:n]\n",
        "  measurement_noise=noise[n:]\n",
        "  new_state=np.dot(A,Preds[-1]) +motion_noise\n",
        "  if i<num-1:\n",
        "    new_measurement= np.dot(H,ground_truth_data[:,i+1]) +measurement_noise\n",
        "  Preds.append(new_state)\n",
        "  measurement_states.append(new_measurement)\n",
        "\n",
        "Preds=np.array(Preds)\n",
        "measurement_states=np.array(measurement_states)"
      ],
      "metadata": {
        "id": "1Xya8YjlBDjW",
        "colab": {
          "base_uri": "https://localhost:8080/"
        },
        "outputId": "45d40f9f-b68f-4429-92fa-4117a07b4ba6"
      },
      "execution_count": 156,
      "outputs": [
        {
          "output_type": "stream",
          "name": "stderr",
          "text": [
            "/usr/local/lib/python3.7/dist-packages/ipykernel_launcher.py:27: RuntimeWarning: covariance is not positive-semidefinite.\n"
          ]
        }
      ]
    },
    {
      "cell_type": "code",
      "source": [
        "i=0\n",
        "plt.title('Position Graph')\n",
        "plt.xlabel('Time (s)')\n",
        "plt.ylabel('Position (m)')\n",
        "plt.plot(ground_truth_data[i,:])\n",
        "plt.plot(Preds[:,i])\n",
        "plt.plot(measurement_states[:,i])\n",
        "plt.legend(['ground truth','motion model', 'measurements'])\n",
        "plt.show()\n",
        "i=1\n",
        "\n",
        "plt.title('Velocity Graph')\n",
        "plt.xlabel('Time (s)')\n",
        "plt.ylabel('Velocity (m/s)')\n",
        "plt.xlabel('Time (s)')\n",
        "plt.ylabel('Position (m)')\n",
        "plt.plot(ground_truth_data[i,:])\n",
        "plt.plot(Preds[:,i])\n",
        "plt.plot(measurement_states[:,i])\n",
        "plt.legend(['ground truth','motion model', 'measurements'])\n",
        "plt.show()\n",
        "\n",
        "i=2\n",
        "plt.title('Acceleration Graph')\n",
        "plt.xlabel('Time (s)')\n",
        "plt.ylabel('Acceleration (m/s^2)')\n",
        "\n",
        "plt.plot(ground_truth_data[i,:])\n",
        "plt.plot(Preds[:,i])\n",
        "plt.legend(['ground truth','motion model'])\n",
        "plt.show()"
      ],
      "metadata": {
        "id": "I3rV4K2YTJTC"
      },
      "execution_count": null,
      "outputs": []
    },
    {
      "cell_type": "code",
      "source": [
        "#Initialization1\n",
        "y0=measurement_states[0,0]\n",
        "y1=measurement_states[1,0]\n",
        "y2=measurement_states[2,0]\n",
        "\n",
        "x0_bar,S0=initializeObserver(y0,y1,y2,sigma_m_x,sigma_a,T)"
      ],
      "metadata": {
        "id": "zoxoniE7CMS0"
      },
      "execution_count": 157,
      "outputs": []
    },
    {
      "cell_type": "code",
      "source": [
        "n=3\n",
        "m=2\n",
        "m1=1\n",
        "Estimates,Sigmas=RunObserver(x0_bar,S0,A,Q,R,m1,num)"
      ],
      "metadata": {
        "id": "IdLpX4k1COwv"
      },
      "execution_count": 158,
      "outputs": []
    },
    {
      "cell_type": "code",
      "source": [
        "i=0\n",
        "plt.title('Position Graph')\n",
        "plt.xlabel('Time (s)')\n",
        "plt.ylabel('Position (m)')\n",
        "plt.plot(ground_truth_data[i,:])\n",
        "#plt.plot(Preds[:,i])\n",
        "plt.plot(measurement_states[:,i])\n",
        "plt.plot(Estimates[:,i])\n",
        "#plt.legend(['ground truth','motion model', 'measurements','estimates'])\n",
        "plt.legend(['ground truth', 'measurements','estimates'])\n",
        "plt.show()\n",
        "i=1\n",
        "\n",
        "plt.title('Velocity Graph')\n",
        "plt.xlabel('Time (s)')\n",
        "plt.ylabel('Velocity (m/s)')\n",
        "plt.xlabel('Time (s)')\n",
        "plt.ylabel('Position (m)')\n",
        "plt.plot(ground_truth_data[i,:])\n",
        "#plt.plot(Preds[:,i])\n",
        "plt.plot(measurement_states[:,i])\n",
        "plt.plot(Estimates[:,i])\n",
        "#plt.legend(['ground truth','motion model', 'measurements','estimates'])\n",
        "plt.legend(['ground truth', 'measurements','estimates'])\n",
        "plt.show()\n",
        "\n",
        "i=2\n",
        "plt.title('Acceleration Graph ')\n",
        "plt.xlabel('Time (s)')\n",
        "plt.ylabel('Acceleration (m/s^2)')\n",
        "\n",
        "plt.plot(ground_truth_data[i,:])\n",
        "#plt.plot(Preds[:,i])\n",
        "plt.plot(Estimates[:,i])\n",
        "#plt.legend(['ground truth','motion model','estimates'])\n",
        "plt.legend(['ground truth','estimates'])\n",
        "plt.show()"
      ],
      "metadata": {
        "id": "dpLeteijCRV0"
      },
      "execution_count": null,
      "outputs": []
    }
  ]
}